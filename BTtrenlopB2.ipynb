{
 "cells": [
  {
   "cell_type": "code",
   "execution_count": 11,
   "id": "2a2307ab-542e-442e-933f-8c6bfec98807",
   "metadata": {},
   "outputs": [
    {
     "name": "stdin",
     "output_type": "stream",
     "text": [
      "Nhap chi so dien cu:  3\n",
      "Nhap chi so dien moi:  190\n"
     ]
    },
    {
     "name": "stdout",
     "output_type": "stream",
     "text": [
      "The amount to pay for 187 kWh consumed in the month is 275,536 VND.\n"
     ]
    }
   ],
   "source": [
    "# Bài 6: Tính tiền điện tiêu thụ\n",
    "\n",
    "# Nhập dữ liệu\n",
    "old = int(input(\"Nhap chi so dien cu: \"))\n",
    "new = int(input(\"Nhap chi so dien moi: \"))\n",
    "\n",
    "# Số kWh tiêu thụ\n",
    "kWh = new - old\n",
    "\n",
    "# Tính tiền theo bậc thang\n",
    "if kWh <= 100:\n",
    "    cost = kWh * 1242\n",
    "elif kWh <= 150:\n",
    "    cost = 100 * 1242 + (kWh - 100) * 1304\n",
    "elif kWh <= 200:\n",
    "    cost = 100 * 1242 + 50 * 1304 + (kWh - 150) * 1651\n",
    "elif kWh <= 300:\n",
    "    cost = 100 * 1242 + 50 * 1304 + 50 * 1651 + (kWh - 200) * 1788\n",
    "elif kWh <= 400:\n",
    "    cost = 100 * 1242 + 50 * 1304 + 50 * 1651 + 100 * 1788 + (kWh - 300) * 1912\n",
    "else:\n",
    "    cost = 100 * 1242 + 50 * 1304 + 50 * 1651 + 100 * 1788 + 100 * 1912 + (kWh - 400) * 1962\n",
    "\n",
    "# Thêm VAT 10%\n",
    "total = cost * 1.10\n",
    "\n",
    "# Xuất kết quả\n",
    "print(f\"The amount to pay for {kWh} kWh consumed in the month is {total:,.0f} VND.\")\n",
    "\n"
   ]
  },
  {
   "cell_type": "code",
   "execution_count": 14,
   "id": "aeaa3c88-bd24-4611-84f7-ae4534dc1c62",
   "metadata": {},
   "outputs": [
    {
     "name": "stdin",
     "output_type": "stream",
     "text": [
      " 3\n",
      " 8\n",
      " +\n"
     ]
    },
    {
     "name": "stdout",
     "output_type": "stream",
     "text": [
      "3 + 8 = 11.\n"
     ]
    }
   ],
   "source": [
    "# Bài 5: Tính toán Calculation.*\n",
    "\n",
    "# Nhập dữ liệu\n",
    "a = float(input())\n",
    "b = float(input())\n",
    "op = input()\n",
    "\n",
    "# Xử lý theo bảng quyết định\n",
    "if op == '+':\n",
    "    print(\"%.0f + %.0f = %.0f.\" % (a, b, a + b))\n",
    "elif op == '-':\n",
    "    print(\"%.0f - %.0f = %.0f.\" % (a, b, a - b))\n",
    "elif op == '*':\n",
    "    print(\"%.0f * %.0f = %.0f.\" % (a, b, a * b))\n",
    "elif op == '/':\n",
    "    if b == 0:\n",
    "        print(\"Khong tinh duoc (chia cho 0).\")\n",
    "    else:\n",
    "        print(\"%.0f / %.0f = %.2f.\" % (a, b, a / b))\n",
    "else:\n",
    "    print(\"Phep toan khong hop le!\")\n",
    "\n"
   ]
  },
  {
   "cell_type": "code",
   "execution_count": 12,
   "id": "642ff42d-c128-41fc-9578-3ff462e049cc",
   "metadata": {},
   "outputs": [
    {
     "name": "stdin",
     "output_type": "stream",
     "text": [
      "Nhap ngay:  1\n",
      "Nhap thang:  2\n",
      "Nhap nam:  2015\n"
     ]
    },
    {
     "name": "stdout",
     "output_type": "stream",
     "text": [
      "Previous day of 1/2/2015 is 31/1/2015.\n"
     ]
    }
   ],
   "source": [
    "# Bài 7: Ngày trước (PreviousDay)\n",
    "\n",
    "# Nhập dữ liệu\n",
    "d = int(input(\"Nhap ngay: \"))\n",
    "m = int(input(\"Nhap thang: \"))\n",
    "y = int(input(\"Nhap nam: \"))\n",
    "\n",
    "# Hàm kiểm tra năm nhuận\n",
    "def is_leap(year):\n",
    "    return year % 400 == 0 or (year % 4 == 0 and year % 100 != 0)\n",
    "\n",
    "# Hàm trả về số ngày trong tháng\n",
    "def days_in_month(month, year):\n",
    "    if month in [1, 3, 5, 7, 8, 10, 12]:\n",
    "        return 31\n",
    "    elif month in [4, 6, 9, 11]:\n",
    "        return 30\n",
    "    elif month == 2:\n",
    "        return 29 if is_leap(year) else 28\n",
    "    else:\n",
    "        return 0  # tháng không hợp lệ\n",
    "\n",
    "# Xử lý\n",
    "if d == 1 and m == 1:  # ngày đầu năm\n",
    "    prev_d = 31\n",
    "    prev_m = 12\n",
    "    prev_y = y - 1\n",
    "elif d == 1:  # ngày đầu tháng\n",
    "    prev_m = m - 1\n",
    "    prev_y = y\n",
    "    prev_d = days_in_month(prev_m, prev_y)\n",
    "else:  # ngày bình thường\n",
    "    prev_d = d - 1\n",
    "    prev_m = m\n",
    "    prev_y = y\n",
    "\n",
    "# Xuất kết quả\n",
    "print(\"Previous day of %d/%d/%d is %d/%d/%d.\" % (d, m, y, prev_d, prev_m, prev_y))\n"
   ]
  },
  {
   "cell_type": "code",
   "execution_count": 13,
   "id": "425bb650-60be-4e16-9c09-55764cec4064",
   "metadata": {},
   "outputs": [
    {
     "name": "stdin",
     "output_type": "stream",
     "text": [
      "Nhap canh a:  5\n",
      "Nhap canh b:  3\n",
      "Nhap canh c:  4\n"
     ]
    },
    {
     "name": "stdout",
     "output_type": "stream",
     "text": [
      "Ba canh 5.00, 3.00, 4.00 tao thanh mot tam giac.\n"
     ]
    }
   ],
   "source": [
    "# Bài 8: Kiểm tra tam giác\n",
    "\n",
    "# Nhập dữ liệu\n",
    "a = float(input(\"Nhap canh a: \"))\n",
    "b = float(input(\"Nhap canh b: \"))\n",
    "c = float(input(\"Nhap canh c: \"))\n",
    "\n",
    "# Cách 1: kiểm tra trực tiếp (chưa sắp xếp)\n",
    "if a + b > c and a + c > b and b + c > a:\n",
    "    print(\"Ba canh %.2f, %.2f, %.2f tao thanh mot tam giac.\" % (a, b, c))\n",
    "else:\n",
    "    print(\"Ba canh %.2f, %.2f, %.2f khong tao thanh tam giac.\" % (a, b, c))\n"
   ]
  }
 ],
 "metadata": {
  "kernelspec": {
   "display_name": "Python 3 (ipykernel)",
   "language": "python",
   "name": "python3"
  },
  "language_info": {
   "codemirror_mode": {
    "name": "ipython",
    "version": 3
   },
   "file_extension": ".py",
   "mimetype": "text/x-python",
   "name": "python",
   "nbconvert_exporter": "python",
   "pygments_lexer": "ipython3",
   "version": "3.13.5"
  }
 },
 "nbformat": 4,
 "nbformat_minor": 5
}
