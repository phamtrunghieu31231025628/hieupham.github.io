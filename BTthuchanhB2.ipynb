{
 "cells": [
  {
   "cell_type": "code",
   "execution_count": 1,
   "id": "8254e591-46f9-439b-89b1-9090a5062d9f",
   "metadata": {},
   "outputs": [
    {
     "name": "stdout",
     "output_type": "stream",
     "text": [
      "**************************\n",
      "* Truong: Dai Hoc UEH    *\n",
      "* Khoa: CNTT             *\n",
      "* Ho ten:                *\n",
      "**************************\n"
     ]
    }
   ],
   "source": [
    "# Bài 1: In nhãn nhiều dòng\n",
    "\n",
    "print(\"**************************\")\n",
    "print(\"* Truong: Dai Hoc UEH    *\")\n",
    "print(\"* Khoa: CNTT             *\")\n",
    "print(\"* Ho ten:                *\")\n",
    "print(\"**************************\")\n"
   ]
  },
  {
   "cell_type": "code",
   "execution_count": 2,
   "id": "6f7a411d-04ae-4bb7-b63a-fe4fe4a49aec",
   "metadata": {},
   "outputs": [
    {
     "name": "stdin",
     "output_type": "stream",
     "text": [
      "Nhap ban kinh R:  5\n"
     ]
    },
    {
     "name": "stdout",
     "output_type": "stream",
     "text": [
      "Dien tich S = 78.5\n",
      "Chu vi P = 31.4\n"
     ]
    }
   ],
   "source": [
    "# Bài 2: Tính diện tích và chu vi hình tròn\n",
    "\n",
    "# Nhập dữ liệu\n",
    "R = float(input(\"Nhap ban kinh R: \"))\n",
    "\n",
    "# Xử lý\n",
    "S = 3.14 * R * R        # Diện tích\n",
    "P = 2 * 3.14 * R        # Chu vi\n",
    "\n",
    "# Xuất dữ liệu (làm tròn 1 số lẻ thập phân)\n",
    "print(\"Dien tich S = %.1f\" % S)\n",
    "print(\"Chu vi P = %.1f\" % P)\n"
   ]
  },
  {
   "cell_type": "code",
   "execution_count": 3,
   "id": "adc432fa-e86d-45ad-840d-18f9ab818088",
   "metadata": {},
   "outputs": [
    {
     "name": "stdin",
     "output_type": "stream",
     "text": [
      "Nhap so gio:  1\n",
      "Nhap so phut:  20\n",
      "Nhap so giay:  10\n"
     ]
    },
    {
     "name": "stdout",
     "output_type": "stream",
     "text": [
      "Tong so giay cua 1:20:10 la 4810 giay\n"
     ]
    }
   ],
   "source": [
    "# Bài 3: Đổi sang giây\n",
    "\n",
    "# Nhập dữ liệu\n",
    "h = int(input(\"Nhap so gio: \"))\n",
    "m = int(input(\"Nhap so phut: \"))\n",
    "s = int(input(\"Nhap so giay: \"))\n",
    "\n",
    "# Xử lý: đổi tất cả về giây\n",
    "total_seconds = h * 3600 + m * 60 + s\n",
    "\n",
    "# Xuất dữ liệu\n",
    "print(\"Tong so giay cua %d:%d:%d la %d giay\" % (h, m, s, total_seconds))\n"
   ]
  },
  {
   "cell_type": "code",
   "execution_count": 4,
   "id": "4af368ce-3d74-4f31-b581-4621d2b388ac",
   "metadata": {},
   "outputs": [
    {
     "name": "stdin",
     "output_type": "stream",
     "text": [
      "Nhap vao tong so giay:  4810\n"
     ]
    },
    {
     "name": "stdout",
     "output_type": "stream",
     "text": [
      "4810 giay co dang 1:20:10\n"
     ]
    }
   ],
   "source": [
    "# Bài 4: Đổi sang giờ phút giây\n",
    "\n",
    "# Nhập dữ liệu\n",
    "t = int(input(\"Nhap vao tong so giay: \"))\n",
    "\n",
    "# Xử lý\n",
    "h = t // 3600                # số giờ\n",
    "m = (t % 3600) // 60         # số phút\n",
    "s = t % 60                   # số giây\n",
    "\n",
    "# Xuất dữ liệu\n",
    "print(\"%d giay co dang %d:%d:%d\" % (t, h, m, s))\n"
   ]
  },
  {
   "cell_type": "code",
   "execution_count": 5,
   "id": "e1d847fa-fb58-4bc4-a130-aaf719e082ee",
   "metadata": {},
   "outputs": [
    {
     "name": "stdin",
     "output_type": "stream",
     "text": [
      "Nhap do dai canh a:  3\n",
      "Nhap do dai canh b:  4\n",
      "Nhap do dai canh c:  6\n"
     ]
    },
    {
     "name": "stdout",
     "output_type": "stream",
     "text": [
      "Dien tich tam giac S = 5.33\n"
     ]
    }
   ],
   "source": [
    "# Bài 5: Tính diện tích tam giác theo công thức Heron\n",
    "\n",
    "import math\n",
    "\n",
    "# Nhập dữ liệu\n",
    "a = float(input(\"Nhap do dai canh a: \"))\n",
    "b = float(input(\"Nhap do dai canh b: \"))\n",
    "c = float(input(\"Nhap do dai canh c: \"))\n",
    "\n",
    "# Nửa chu vi\n",
    "p = (a + b + c) / 2\n",
    "\n",
    "# Công thức Heron\n",
    "S = math.sqrt(p * (p - a) * (p - b) * (p - c))\n",
    "\n",
    "# Xuất dữ liệu với 2 số lẻ thập phân\n",
    "print(\"Dien tich tam giac S = %.2f\" % S)\n"
   ]
  },
  {
   "cell_type": "code",
   "execution_count": 6,
   "id": "f8ebcf9e-439c-40d0-b4fa-d2ee9097f9bb",
   "metadata": {},
   "outputs": [
    {
     "name": "stdin",
     "output_type": "stream",
     "text": [
      "Nhap so thuc a:  3\n",
      "Nhap so mu n:  4\n"
     ]
    },
    {
     "name": "stdout",
     "output_type": "stream",
     "text": [
      "Ket qua 3^4 = 81\n"
     ]
    }
   ],
   "source": [
    "# Bài 6: Tính a^n\n",
    "\n",
    "# Nhập dữ liệu\n",
    "a = float(input(\"Nhap so thuc a: \"))\n",
    "n = int(input(\"Nhap so mu n: \"))\n",
    "\n",
    "# Xử lý\n",
    "ket_qua = a ** n   # toán tử ** là lũy thừa trong Python\n",
    "\n",
    "# Xuất dữ liệu\n",
    "print(\"Ket qua %.0f^%d = %g\" % (a, n, ket_qua))\n"
   ]
  },
  {
   "cell_type": "code",
   "execution_count": 7,
   "id": "f8b6976e-5ae7-4aa8-bbbd-ce614e6830d5",
   "metadata": {},
   "outputs": [
    {
     "name": "stdin",
     "output_type": "stream",
     "text": [
      "Nhap so nguyen x (co 4 chu so):  2345\n"
     ]
    },
    {
     "name": "stdout",
     "output_type": "stream",
     "text": [
      "So dao cua 2345 la 5432\n"
     ]
    }
   ],
   "source": [
    "# Bài 7: Đảo số 4 chữ số\n",
    "\n",
    "# Nhập dữ liệu\n",
    "x = int(input(\"Nhap so nguyen x (co 4 chu so): \"))\n",
    "\n",
    "# Cách 1: Dùng chuỗi\n",
    "y = int(str(x)[::-1])\n",
    "\n",
    "# Xuất dữ liệu\n",
    "print(\"So dao cua %d la %d\" % (x, y))\n"
   ]
  },
  {
   "cell_type": "code",
   "execution_count": 8,
   "id": "5b0ec164-e44b-4c52-bb70-5f3a08be9ca1",
   "metadata": {},
   "outputs": [
    {
     "name": "stdin",
     "output_type": "stream",
     "text": [
      "Nhap goc (do):  60\n"
     ]
    },
    {
     "name": "stdout",
     "output_type": "stream",
     "text": [
      "60.00 do = 1.0472 radian\n"
     ]
    }
   ],
   "source": [
    "# Bài 8: Độ sang Radian\n",
    "\n",
    "import math\n",
    "\n",
    "# Nhập dữ liệu\n",
    "degree = float(input(\"Nhap goc (do): \"))\n",
    "\n",
    "# Xử lý: đổi sang radian\n",
    "radian = degree * math.pi / 180\n",
    "\n",
    "# Xuất dữ liệu (làm tròn 4 số lẻ)\n",
    "print(\"%.2f do = %.4f radian\" % (degree, radian))\n"
   ]
  },
  {
   "cell_type": "code",
   "execution_count": 9,
   "id": "c0cff755-efcc-4222-a256-3ce2aa905199",
   "metadata": {},
   "outputs": [
    {
     "name": "stdin",
     "output_type": "stream",
     "text": [
      "Nhap gia tri x:  3\n"
     ]
    },
    {
     "name": "stdout",
     "output_type": "stream",
     "text": [
      "y1 = 283.85\n",
      "y2 = 0.01\n"
     ]
    }
   ],
   "source": [
    "# Bài 9: Hàm số 1\n",
    "\n",
    "import math\n",
    "\n",
    "# Nhập dữ liệu\n",
    "x = float(input(\"Nhap gia tri x: \"))\n",
    "\n",
    "# Tính toán\n",
    "y1 = 4 * (x**2 + 10*x*math.sqrt(x) + 3*x + 1)\n",
    "y2 = (math.sin(math.pi * x**2) + math.sqrt(x**2 + 1)) / (math.exp(2*x) + math.cos((math.pi/4) * x))\n",
    "\n",
    "# Xuất dữ liệu (làm tròn 2 số lẻ)\n",
    "print(\"y1 = %.2f\" % y1)\n",
    "print(\"y2 = %.2f\" % y2)\n"
   ]
  },
  {
   "cell_type": "code",
   "execution_count": 11,
   "id": "71d74717-d990-4ac6-88c0-22e505d99ed4",
   "metadata": {},
   "outputs": [
    {
     "name": "stdin",
     "output_type": "stream",
     "text": [
      "Nhap hoanh do x1:  2\n",
      "Nhap tung do y1:  3\n",
      "Nhap hoanh do x2:  4\n",
      "Nhap tung do y2:  5\n"
     ]
    },
    {
     "name": "stdout",
     "output_type": "stream",
     "text": [
      "Khoang cach giua A(2.00, 3.00) va B(4.00, 5.00) la 2.83\n"
     ]
    }
   ],
   "source": [
    "# Bài 10: Tính khoảng cách giữa 2 điểm A và B\n",
    "\n",
    "import math\n",
    "\n",
    "# Nhập dữ liệu\n",
    "x1 = float(input(\"Nhap hoanh do x1: \"))\n",
    "y1 = float(input(\"Nhap tung do y1: \"))\n",
    "x2 = float(input(\"Nhap hoanh do x2: \"))\n",
    "y2 = float(input(\"Nhap tung do y2: \"))\n",
    "\n",
    "# Xử lý\n",
    "d = math.sqrt((x2 - x1)**2 + (y2 - y1)**2)\n",
    "\n",
    "# Xuất dữ liệu (2 số lẻ)\n",
    "print(\"Khoang cach giua A(%.2f, %.2f) va B(%.2f, %.2f) la %.2f\" % (x1, y1, x2, y2, d))\n"
   ]
  }
 ],
 "metadata": {
  "kernelspec": {
   "display_name": "Python 3 (ipykernel)",
   "language": "python",
   "name": "python3"
  },
  "language_info": {
   "codemirror_mode": {
    "name": "ipython",
    "version": 3
   },
   "file_extension": ".py",
   "mimetype": "text/x-python",
   "name": "python",
   "nbconvert_exporter": "python",
   "pygments_lexer": "ipython3",
   "version": "3.13.5"
  }
 },
 "nbformat": 4,
 "nbformat_minor": 5
}
