{
 "cells": [
  {
   "cell_type": "code",
   "execution_count": null,
   "id": "7050c904-8b38-44f5-9354-3a3c6081245e",
   "metadata": {},
   "outputs": [],
   "source": [
    "CẤU TRÚC LẶP VÀ LIST"
   ]
  },
  {
   "cell_type": "code",
   "execution_count": 1,
   "id": "ba0aa1bf-cc76-49f8-953d-0467ac4a9650",
   "metadata": {},
   "outputs": [
    {
     "name": "stdout",
     "output_type": "stream",
     "text": [
      "Sắp xếp theo thứ tự từ điển (string compare):\n",
      "['1', '123', '27', '3', '5', '9']\n",
      "\n",
      "Sắp xếp theo giá trị số nguyên (integer compare):\n",
      "['1', '3', '5', '9', '27', '123']\n"
     ]
    }
   ],
   "source": [
    "A = ['3', '27', '5', '123', '9', '1']\n",
    "\n",
    "# Sắp xếp theo kiểu so sánh chuỗi (string compare)\n",
    "# Mặc định, sorted() sẽ so sánh các chuỗi theo thứ tự từ điển (ASCII).\n",
    "A_string_sorted = sorted(A)\n",
    "\n",
    "print(\"Sắp xếp theo thứ tự từ điển (string compare):\")\n",
    "print(A_string_sorted)\n",
    "\n",
    "# Sắp xếp theo kiểu so sánh số nguyên (integer compare)\n",
    "# Sử dụng key=int để chuyển đổi từng phần tử thành số nguyên trước khi so sánh.\n",
    "A_integer_sorted = sorted(A, key=int)\n",
    "\n",
    "print(\"\\nSắp xếp theo giá trị số nguyên (integer compare):\")\n",
    "print(A_integer_sorted)"
   ]
  },
  {
   "cell_type": "code",
   "execution_count": 2,
   "id": "be9d91e2-b0ba-4502-af90-aa9bc97dfdf9",
   "metadata": {},
   "outputs": [
    {
     "name": "stdout",
     "output_type": "stream",
     "text": [
      "List ban đầu: [12, 24, 35, 70, 88, 120, 155]\n",
      "Các vị trí cần xóa: [1, 2, 3, 6]\n",
      "List sau khi xóa: [12, 88, 120]\n"
     ]
    }
   ],
   "source": [
    "list_ban_dau = [12, 24, 35, 70, 88, 120, 155]\n",
    "vi_tri_can_xoa = [1, 2, 3, 6]\n",
    "\n",
    "# Sử dụng list comprehension và enumerate() để tạo list mới\n",
    "# Chúng ta sẽ giữ lại các phần tử có chỉ số (index) không nằm trong list vi_tri_can_xoa\n",
    "list_sau_khi_xoa = [\n",
    "    gia_tri\n",
    "    for chi_so, gia_tri in enumerate(list_ban_dau)\n",
    "    if chi_so not in vi_tri_can_xoa\n",
    "]\n",
    "\n",
    "print(\"List ban đầu:\", list_ban_dau)\n",
    "print(\"Các vị trí cần xóa:\", vi_tri_can_xoa)\n",
    "print(\"List sau khi xóa:\", list_sau_khi_xoa)"
   ]
  },
  {
   "cell_type": "code",
   "execution_count": 3,
   "id": "3c9f31ef-a1b0-4470-ac91-a5bf2c592109",
   "metadata": {},
   "outputs": [
    {
     "name": "stdout",
     "output_type": "stream",
     "text": [
      "Danh sách ban đầu (A): [1, 2, 3, 1, 2, 5, 6, 7, 8]\n",
      "Danh sách sau khi xóa phần tử trùng lặp (B): [1, 2, 3, 5, 6, 7, 8]\n"
     ]
    }
   ],
   "source": [
    "A = [1, 2, 3, 1, 2, 5, 6, 7, 8]\n",
    "B = []\n",
    "\n",
    "# Duyệt qua từng phần tử trong danh sách A\n",
    "for phan_tu in A:\n",
    "    # Kiểm tra xem phần tử đã có trong danh sách B chưa\n",
    "    if phan_tu not in B:\n",
    "        # Nếu chưa có, thêm phần tử đó vào B\n",
    "        B.append(phan_tu)\n",
    "\n",
    "print(\"Danh sách ban đầu (A):\", A)\n",
    "print(\"Danh sách sau khi xóa phần tử trùng lặp (B):\", B)"
   ]
  },
  {
   "cell_type": "code",
   "execution_count": 4,
   "id": "3b34237a-6150-4562-b971-e64256808612",
   "metadata": {},
   "outputs": [
    {
     "name": "stdout",
     "output_type": "stream",
     "text": [
      "1: 4, 2: 4, 3: 2, 4: 1, 5: 2, "
     ]
    }
   ],
   "source": [
    "A = [1, 1, 1, 1, 2, 2, 2, 2, 3, 3, 4, 5, 5]\n",
    "da_kiem_tra = []\n",
    "\n",
    "# Duyệt qua từng phần tử trong danh sách ban đầu A\n",
    "for phan_tu in A:\n",
    "    # Nếu phần tử đã được kiểm tra, bỏ qua\n",
    "    if phan_tu in da_kiem_tra:\n",
    "        continue\n",
    "\n",
    "    # Nếu chưa được kiểm tra, tiến hành đếm số lần xuất hiện\n",
    "    dem = 0\n",
    "    for x in A:\n",
    "        if phan_tu == x:\n",
    "            dem += 1\n",
    "\n",
    "    # In kết quả\n",
    "    print(f\"{phan_tu}: {dem}\", end=\", \")\n",
    "\n",
    "    # Thêm phần tử đã đếm vào danh sách da_kiem_tra\n",
    "    da_kiem_tra.append(phan_tu)"
   ]
  }
 ],
 "metadata": {
  "kernelspec": {
   "display_name": "Python 3 (ipykernel)",
   "language": "python",
   "name": "python3"
  },
  "language_info": {
   "codemirror_mode": {
    "name": "ipython",
    "version": 3
   },
   "file_extension": ".py",
   "mimetype": "text/x-python",
   "name": "python",
   "nbconvert_exporter": "python",
   "pygments_lexer": "ipython3",
   "version": "3.13.5"
  }
 },
 "nbformat": 4,
 "nbformat_minor": 5
}
