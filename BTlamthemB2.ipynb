{
 "cells": [
  {
   "cell_type": "code",
   "execution_count": 1,
   "id": "c111e073-6f2b-4bbd-b363-6ffc6fceb57b",
   "metadata": {},
   "outputs": [
    {
     "name": "stdin",
     "output_type": "stream",
     "text": [
      "Nhap so a:  1\n",
      "Nhap so b:  5\n",
      "Nhap so c:  6\n",
      "Nhap so d:  2\n",
      "Nhap so e:  8\n"
     ]
    },
    {
     "name": "stdout",
     "output_type": "stream",
     "text": [
      "1 8\n"
     ]
    }
   ],
   "source": [
    "# Bài 1: Tìm giá trị lớn nhất, nhỏ nhất của 5 số\n",
    "\n",
    "# Nhập dữ liệu\n",
    "a = int(input(\"Nhap so a: \"))\n",
    "b = int(input(\"Nhap so b: \"))\n",
    "c = int(input(\"Nhap so c: \"))\n",
    "d = int(input(\"Nhap so d: \"))\n",
    "e = int(input(\"Nhap so e: \"))\n",
    "\n",
    "# Đưa các số vào list\n",
    "nums = [a, b, c, d, e]\n",
    "\n",
    "# Tìm min và max\n",
    "min_val = min(nums)\n",
    "max_val = max(nums)\n",
    "\n",
    "# Xuất kết quả\n",
    "print(min_val, max_val)\n"
   ]
  },
  {
   "cell_type": "code",
   "execution_count": 2,
   "id": "a01ac072-68d4-4468-aa3d-68ea79003435",
   "metadata": {},
   "outputs": [
    {
     "name": "stdin",
     "output_type": "stream",
     "text": [
      "Nhap a:  1\n",
      "Nhap b:  -6\n",
      "Nhap c:  7\n"
     ]
    },
    {
     "name": "stdout",
     "output_type": "stream",
     "text": [
      "x1=1.59, x2=4.41\n"
     ]
    }
   ],
   "source": [
    "# Bài 2: Giải phương trình bậc 2\n",
    "\n",
    "import math\n",
    "\n",
    "# Nhập dữ liệu\n",
    "a = float(input(\"Nhap a: \"))\n",
    "b = float(input(\"Nhap b: \"))\n",
    "c = float(input(\"Nhap c: \"))\n",
    "\n",
    "# Xử lý\n",
    "if a == 0 and b == 0 and c == 0:\n",
    "    print(\"Unlimited solutions\")\n",
    "elif a == 0 and b == 0:\n",
    "    print(\"No solution\")\n",
    "elif a == 0:   # phương trình bậc 1: bx + c = 0\n",
    "    x = -c / b\n",
    "    print(\"x1=%.2f\" % x)\n",
    "else:\n",
    "    delta = b**2 - 4*a*c\n",
    "    if delta < 0:\n",
    "        print(\"No solution\")\n",
    "    elif delta == 0:\n",
    "        x = -b / (2*a)\n",
    "        print(\"x1=%.2f\" % x)\n",
    "    else:\n",
    "        x1 = (-b - math.sqrt(delta)) / (2*a)\n",
    "        x2 = (-b + math.sqrt(delta)) / (2*a)\n",
    "        print(\"x1=%.2f, x2=%.2f\" % (x1, x2))\n"
   ]
  },
  {
   "cell_type": "code",
   "execution_count": 3,
   "id": "a1991e04-f1ee-4302-b5e3-953f18b78cc7",
   "metadata": {},
   "outputs": [
    {
     "name": "stdin",
     "output_type": "stream",
     "text": [
      "Nhap thang:  1\n",
      "Nhap nam:  2025\n"
     ]
    },
    {
     "name": "stdout",
     "output_type": "stream",
     "text": [
      "31\n"
     ]
    }
   ],
   "source": [
    "# Bài 3: Tìm số ngày của tháng (TotalDayMonth)\n",
    "\n",
    "# Nhập dữ liệu\n",
    "m = int(input(\"Nhap thang: \"))\n",
    "y = int(input(\"Nhap nam: \"))\n",
    "\n",
    "# Hàm kiểm tra năm nhuận\n",
    "def is_leap(year):\n",
    "    return year % 400 == 0 or (year % 4 == 0 and year % 100 != 0)\n",
    "\n",
    "# Xử lý\n",
    "if m in [1, 3, 5, 7, 8, 10, 12]:\n",
    "    days = 31\n",
    "elif m in [4, 6, 9, 11]:\n",
    "    days = 30\n",
    "elif m == 2:\n",
    "    days = 29 if is_leap(y) else 28\n",
    "else:\n",
    "    days = 0  # tháng không hợp lệ\n",
    "\n",
    "# Xuất kết quả\n",
    "print(days)\n"
   ]
  },
  {
   "cell_type": "code",
   "execution_count": 4,
   "id": "3451f187-041f-4a37-94fb-c99eaa879edb",
   "metadata": {},
   "outputs": [
    {
     "name": "stdin",
     "output_type": "stream",
     "text": [
      "Nhap so tu nhien co 4 chu so:  2399\n"
     ]
    },
    {
     "name": "stdout",
     "output_type": "stream",
     "text": [
      "9\n"
     ]
    }
   ],
   "source": [
    "n = int(input(\"Nhap so tu nhien co 4 chu so: \"))\n",
    "\n",
    "d1 = n // 1000\n",
    "d2 = (n // 100) % 10\n",
    "d3 = (n // 10) % 10\n",
    "d4 = n % 10\n",
    "\n",
    "max_digit = max(d1, d2, d3, d4)\n",
    "\n",
    "print(max_digit)\n"
   ]
  },
  {
   "cell_type": "code",
   "execution_count": 5,
   "id": "c0176da8-08ca-4d09-8778-48190ec3b5d0",
   "metadata": {},
   "outputs": [
    {
     "name": "stdin",
     "output_type": "stream",
     "text": [
      "Nhập điểm Toán:  6\n",
      "Nhập điểm Lý:  7\n",
      "Nhập điểm Hóa:  9\n"
     ]
    },
    {
     "name": "stdout",
     "output_type": "stream",
     "text": [
      "Điểm trung bình (DTB) của bạn là: 7.00\n",
      "Bạn được xếp loại: Khá (Pretty)\n"
     ]
    }
   ],
   "source": [
    "# Yêu cầu người dùng nhập điểm của 3 môn: Toán, Lý, Hóa\n",
    "toan = float(input(\"Nhập điểm Toán: \"))\n",
    "ly = float(input(\"Nhập điểm Lý: \"))\n",
    "hoa = float(input(\"Nhập điểm Hóa: \"))\n",
    "\n",
    "# Tính điểm trung bình (DTB) theo công thức\n",
    "dtb = (toan * 2 + ly * 3 + hoa) / 6\n",
    "\n",
    "# Phân loại học sinh dựa trên điểm trung bình\n",
    "if dtb >= 8 and dtb <= 10:\n",
    "    xep_loai = \"Giỏi\"\n",
    "    rating = \"Good\"\n",
    "elif dtb >= 6.5 and dtb < 8:\n",
    "    xep_loai = \"Khá\"\n",
    "    rating = \"Pretty\"\n",
    "elif dtb >= 5 and dtb < 6.5:\n",
    "    xep_loai = \"Trung bình\"\n",
    "    rating = \"Average\"\n",
    "else:\n",
    "    xep_loai = \"Yếu\"\n",
    "    rating = \"Weak\"\n",
    "\n",
    "# In kết quả ra màn hình\n",
    "print(f\"Điểm trung bình (DTB) của bạn là: {dtb:.2f}\")\n",
    "print(f\"Bạn được xếp loại: {xep_loai} ({rating})\")"
   ]
  },
  {
   "cell_type": "code",
   "execution_count": 6,
   "id": "46d318b3-c3e5-4449-aeb0-7ba6fa5e55b5",
   "metadata": {},
   "outputs": [
    {
     "name": "stdin",
     "output_type": "stream",
     "text": [
      "Nhập chỉ số nước cũ (m3):  600\n",
      "Nhập chỉ số nước mới (m3):  900\n",
      "Nhập số người đăng ký:  3636\n"
     ]
    },
    {
     "name": "stdout",
     "output_type": "stream",
     "text": [
      "Tổng số m3 đã tiêu thụ: 300 m3\n",
      "Số tiền nước phải trả (chưa bao gồm thuế): 1,320,000 VND\n",
      "Tổng số tiền phải trả (đã bao gồm thuế GTGT 5% và phí BVMT 10%): 1,518,000 VND\n"
     ]
    }
   ],
   "source": [
    "# Yêu cầu người dùng nhập các thông tin cần thiết\n",
    "chi_so_cu = int(input(\"Nhập chỉ số nước cũ (m3): \"))\n",
    "chi_so_moi = int(input(\"Nhập chỉ số nước mới (m3): \"))\n",
    "so_nguoi = int(input(\"Nhập số người đăng ký: \"))\n",
    "\n",
    "# Tính tổng số m3 nước đã tiêu thụ\n",
    "so_m3_tieu_thu = chi_so_moi - chi_so_cu\n",
    "\n",
    "# Khởi tạo biến tổng tiền nước (chưa bao gồm thuế)\n",
    "tong_tien_nuoc_chua_thue = 0\n",
    "\n",
    "# Định mức sử dụng theo từng người\n",
    "dinh_muc_bac_1 = so_nguoi * 4  # 4m3 đầu tiên cho mỗi người\n",
    "dinh_muc_bac_2 = so_nguoi * 2  # 2m3 kế tiếp cho mỗi người\n",
    "\n",
    "# Biểu giá\n",
    "gia_bac_1 = 4400\n",
    "gia_bac_2 = 8300\n",
    "gia_bac_3 = 10500\n",
    "\n",
    "# Tính tiền nước dựa trên tổng số m3 tiêu thụ\n",
    "if so_m3_tieu_thu <= dinh_muc_bac_1:\n",
    "    tong_tien_nuoc_chua_thue = so_m3_tieu_thu * gia_bac_1\n",
    "elif so_m3_tieu_thu <= dinh_muc_bac_1 + dinh_muc_bac_2:\n",
    "    tien_bac_1 = dinh_muc_bac_1 * gia_bac_1\n",
    "    so_m3_bac_2 = so_m3_tieu_thu - dinh_muc_bac_1\n",
    "    tien_bac_2 = so_m3_bac_2 * gia_bac_2\n",
    "    tong_tien_nuoc_chua_thue = tien_bac_1 + tien_bac_2\n",
    "else:\n",
    "    tien_bac_1 = dinh_muc_bac_1 * gia_bac_1\n",
    "    tien_bac_2 = dinh_muc_bac_2 * gia_bac_2\n",
    "    so_m3_bac_3 = so_m3_tieu_thu - dinh_muc_bac_1 - dinh_muc_bac_2\n",
    "    tien_bac_3 = so_m3_bac_3 * gia_bac_3\n",
    "    tong_tien_nuoc_chua_thue = tien_bac_1 + tien_bac_2 + tien_bac_3\n",
    "\n",
    "# Tính tổng tiền phải trả, bao gồm thuế GTGT 5% và phí bảo vệ môi trường 10%\n",
    "tong_tien_phai_tra = tong_tien_nuoc_chua_thue * (1 + 0.05 + 0.10)\n",
    "\n",
    "# In kết quả ra màn hình\n",
    "print(f\"Tổng số m3 đã tiêu thụ: {so_m3_tieu_thu} m3\")\n",
    "print(f\"Số tiền nước phải trả (chưa bao gồm thuế): {tong_tien_nuoc_chua_thue:,.0f} VND\")\n",
    "print(f\"Tổng số tiền phải trả (đã bao gồm thuế GTGT 5% và phí BVMT 10%): {tong_tien_phai_tra:,.0f} VND\")"
   ]
  },
  {
   "cell_type": "code",
   "execution_count": 7,
   "id": "55f46139-73e7-4035-b322-b11d4c039618",
   "metadata": {},
   "outputs": [
    {
     "name": "stdin",
     "output_type": "stream",
     "text": [
      "Nhập ngày:  15\n",
      "Nhập tháng:  1\n",
      "Nhập năm:  2020\n"
     ]
    },
    {
     "name": "stdout",
     "output_type": "stream",
     "text": [
      "Ngày tiếp theo là: 16/1/2020\n"
     ]
    }
   ],
   "source": [
    "# Yêu cầu người dùng nhập ngày, tháng, năm\n",
    "ngay = int(input(\"Nhập ngày: \"))\n",
    "thang = int(input(\"Nhập tháng: \"))\n",
    "nam = int(input(\"Nhập năm: \"))\n",
    "\n",
    "# Xác định số ngày trong tháng\n",
    "def so_ngay_trong_thang(thang, nam):\n",
    "    if thang in [1, 3, 5, 7, 8, 10, 12]:\n",
    "        return 31\n",
    "    elif thang in [4, 6, 9, 11]:\n",
    "        return 30\n",
    "    elif thang == 2:\n",
    "        # Kiểm tra năm nhuận\n",
    "        if (nam % 4 == 0 and nam % 100 != 0) or (nam % 400 == 0):\n",
    "            return 29\n",
    "        else:\n",
    "            return 28\n",
    "    else:\n",
    "        return 0 # Trả về 0 nếu tháng không hợp lệ\n",
    "\n",
    "# Tính toán ngày tiếp theo\n",
    "ngay_tiep_theo = ngay + 1\n",
    "thang_tiep_theo = thang\n",
    "nam_tiep_theo = nam\n",
    "\n",
    "# Lấy số ngày tối đa của tháng hiện tại\n",
    "max_ngay = so_ngay_trong_thang(thang, nam)\n",
    "\n",
    "# Kiểm tra nếu ngày tiếp theo vượt quá số ngày của tháng\n",
    "if ngay_tiep_theo > max_ngay:\n",
    "    ngay_tiep_theo = 1\n",
    "    thang_tiep_theo += 1\n",
    "    # Kiểm tra nếu tháng tiếp theo vượt quá 12\n",
    "    if thang_tiep_theo > 12:\n",
    "        thang_tiep_theo = 1\n",
    "        nam_tiep_theo += 1\n",
    "\n",
    "# In kết quả\n",
    "print(f\"Ngày tiếp theo là: {ngay_tiep_theo}/{thang_tiep_theo}/{nam_tiep_theo}\")"
   ]
  },
  {
   "cell_type": "code",
   "execution_count": 8,
   "id": "9697efd9-515c-4b9e-a357-5aa63a110d37",
   "metadata": {},
   "outputs": [
    {
     "name": "stdin",
     "output_type": "stream",
     "text": [
      "Nhập một số tự nhiên n nhỏ hơn 1000:  36\n"
     ]
    },
    {
     "name": "stdout",
     "output_type": "stream",
     "text": [
      "36 có 2 chữ số.\n",
      "Tổng các chữ số là: 9\n",
      "Chữ số cuối cùng là: 6\n",
      "Chữ số đầu tiên là: 3\n"
     ]
    }
   ],
   "source": [
    "# Yêu cầu người dùng nhập một số tự nhiên n nhỏ hơn 1000\n",
    "n_str = input(\"Nhập một số tự nhiên n nhỏ hơn 1000: \")\n",
    "n = int(n_str)\n",
    "\n",
    "# Kiểm tra điều kiện n nhỏ hơn 1000 (không bắt buộc theo đề, nhưng là một good practice)\n",
    "if n >= 1000:\n",
    "    print(\"Vui lòng nhập một số nhỏ hơn 1000.\")\n",
    "else:\n",
    "    # a) Đếm số chữ số\n",
    "    so_chu_so = len(n_str)\n",
    "    print(f\"{n} có {so_chu_so} chữ số.\")\n",
    "\n",
    "    # b) Tính tổng các chữ số\n",
    "    tong_chu_so = 0\n",
    "    for chu_so in n_str:\n",
    "        tong_chu_so += int(chu_so)\n",
    "    print(f\"Tổng các chữ số là: {tong_chu_so}\")\n",
    "\n",
    "    # c) Tìm chữ số cuối cùng\n",
    "    chu_so_cuoi = n % 10\n",
    "    print(f\"Chữ số cuối cùng là: {chu_so_cuoi}\")\n",
    "\n",
    "    # d) Tìm chữ số đầu tiên\n",
    "    chu_so_dau = n_str[0]\n",
    "    print(f\"Chữ số đầu tiên là: {chu_so_dau}\")"
   ]
  }
 ],
 "metadata": {
  "kernelspec": {
   "display_name": "Python 3 (ipykernel)",
   "language": "python",
   "name": "python3"
  },
  "language_info": {
   "codemirror_mode": {
    "name": "ipython",
    "version": 3
   },
   "file_extension": ".py",
   "mimetype": "text/x-python",
   "name": "python",
   "nbconvert_exporter": "python",
   "pygments_lexer": "ipython3",
   "version": "3.13.5"
  }
 },
 "nbformat": 4,
 "nbformat_minor": 5
}
